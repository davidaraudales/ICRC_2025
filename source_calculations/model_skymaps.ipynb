{
 "cells": [
  {
   "cell_type": "code",
   "execution_count": 1,
   "id": "b4270dc5-b1f1-4bbf-8356-2532179f275e",
   "metadata": {},
   "outputs": [],
   "source": [
    "import numpy as np\n",
    "import matplotlib.pyplot as plt\n",
    "import matplotlib as mpl\n",
    "import os\n",
    "from scipy.interpolate import interp1d\n",
    "from scipy.integrate import simpson\n",
    "from astropy.cosmology import FlatLambdaCDM\n",
    "import astropy.units as u\n",
    "from tqdm import tqdm"
   ]
  },
  {
   "cell_type": "markdown",
   "id": "c77bf123-078f-400e-85c4-aa2b0ef8c48f",
   "metadata": {},
   "source": [
    "# Model Skymaps\n",
    "\n",
    "This notebook produces skymaps of the expected number of neutrino events for different models at different luminosity distances. The expected number of neutrinos is calculated using\n",
    "\n",
    "$$ N_\\nu (\\phi,\\theta) = \\int d E_\\nu A_{eff}(E_\\nu, \\phi, \\theta)  \\phi_\\nu$$\n",
    "\n",
    "for every point in the sky. \n",
    "\n",
    "For different luminosity distances the fluences presented in Ref. 2 and 3. are scaled considering the following. \n",
    "\n",
    "The fluence at Earth from a source at a luminosity distance $d_L$ is, Ref. 1., \n",
    "\n",
    "$$ E_\\nu^2 \\phi_\\nu(E_\\nu)  = \\dfrac{1+z}{4 \\pi dL^2} \\hat{E_\\nu}^2 \\dfrac{dN}{d \\hat{E_\\nu}}$$\n",
    "\n",
    "where the energy at the source is related to the one on earth by $\\hat E_\\nu = (1+z)E_\\nu$.\n",
    "\n",
    "Denoting the quantities at the original distance with a subscript '0' and ones at the new distance with a subscript 'n' one finds\n",
    "\n",
    "$$ E_{\\nu,n}^2 \\phi_{\\nu,n}(E_{\\nu,n}) = \\dfrac{d_{L,0}^2}{d_{L,n}^2} \\dfrac{1+z_n}{1+z_0}E_{\\nu,0}^2 \\phi_{\\nu,0}(E_{\\nu,0}) \\textbar_{E_{\\nu,0} = \\dfrac{1+z_n}{1+z_0}E_{\\nu,n}}  $$"
   ]
  },
  {
   "cell_type": "code",
   "execution_count": 2,
   "id": "8e81f638-4208-43bd-b14a-e09ead758264",
   "metadata": {},
   "outputs": [],
   "source": [
    "cosmo = FlatLambdaCDM(H0=70 * u.km/u.s/u.Mpc, Om0=0.3)\n",
    "erg2gev = 624.2            # 1 erg in GeV\n",
    "pc2cm  = 3.086e18          # 1 pc   in cm\n",
    "\n",
    "# Energy grid and log-grid \n",
    "energies = (np.array([1e6, 1e7, 1e8, 1e9, 1e10]) * 1e9).astype(np.float64) #eV\n",
    "logE     = np.log(energies) # used for integration\n",
    "\n",
    "# Style (unchanged)\n",
    "mpl.rcParams.update({\n",
    "    'text.usetex':     False,\n",
    "    'mathtext.fontset':'cm',\n",
    "    'font.family':     'serif',\n",
    "    'font.serif':      ['DejaVu Serif'],\n",
    "    'font.size':       12,\n",
    "    'axes.labelsize':  14,\n",
    "})"
   ]
  },
  {
   "cell_type": "code",
   "execution_count": 3,
   "id": "618e2901-7b3b-42a6-8b01-883041f3f36b",
   "metadata": {},
   "outputs": [],
   "source": [
    "Aeff_list = []\n",
    "lon = decs = None\n",
    "for i in [6,7,8,9,10]:  # log10(E)\n",
    "    path = f'../effective_areas/skymaps_60FoV/acceptance_{i}.npz'\n",
    "    with np.load(path) as data:\n",
    "        Aeff_list.append(data['events'].astype(np.float32))  # smaller dtype is fine\n",
    "        if lon is None and 'lon' in data and 'decs' in data:\n",
    "            lon  = data['lon'].astype(np.float32)\n",
    "            decs = data['decs'].astype(np.float32)\n",
    "\n",
    "Aeff_all = np.vstack(Aeff_list)  # shape: (5, n_pix)"
   ]
  },
  {
   "cell_type": "code",
   "execution_count": 4,
   "id": "291b69d1-0041-4093-9dd1-9f66d7762422",
   "metadata": {},
   "outputs": [],
   "source": [
    "def make_z_of_dL(max_z=100.0, n=40000):\n",
    "    '''\n",
    "    Redshift interpolator makes calculations slightly faster\n",
    "    '''\n",
    "    z_grid  = np.linspace(1e-6, max_z, n)\n",
    "    dL_grid = cosmo.luminosity_distance(z_grid).to_value(u.Mpc)\n",
    "    return interp1d(dL_grid, z_grid, kind='cubic', bounds_error=False, fill_value='extrapolate')\n",
    "\n",
    "z_of_dL = make_z_of_dL()"
   ]
  },
  {
   "cell_type": "markdown",
   "id": "3ed09931-866a-48df-937f-3cdcdeb9c672",
   "metadata": {},
   "source": [
    "Note that papers use a different (include papers) use different references for each "
   ]
  },
  {
   "cell_type": "code",
   "execution_count": 5,
   "id": "2a6f6f64-264b-477a-b2ec-f60bb8953a1e",
   "metadata": {},
   "outputs": [],
   "source": [
    "def make_fluence_interp(file_path, delimiter=None):\n",
    "    arr = np.genfromtxt(file_path, delimiter=delimiter) if delimiter else np.genfromtxt(file_path)\n",
    "    E_native_eV = arr[:,0] * 1e9        # GeV -> eV\n",
    "    flux_native = arr[:,1]              # in erg^-1 cm^-2 for files here check file convention if changed\n",
    "    return interp1d(E_native_eV, flux_native, fill_value='extrapolate')\n",
    "\n",
    "def fluence_at_E(fluence_interp):\n",
    "    \"\"\"Base fluence vector on 'energies' (same for all distances, before scaling).\"\"\"\n",
    "    return fluence_interp(energies)  # shape (5,)\n",
    "\n",
    "\n",
    "# vectorized energy integral over ALL pixels\n",
    "def expected_events_map(fluence_E_tau, Aeff_stack, energies, gamma=2.0):\n",
    "    ''' ∫ (fluence * E^{-gamma}) * Aeff dE  ==  ∫ (fluence * E^{1-gamma}) * Aeff d(lnE) '''\n",
    "    integrand = (fluence_E_tau * energies**(1.0 - gamma))[:, None] * Aeff_stack\n",
    "    return simpson(integrand, x=np.log(energies), axis=0)\n",
    "\n",
    "#Model runners \n",
    "\n",
    "def scale_vector(dL0_Mpc, dL_Mpc_array, is_all_flavor, z0=None):\n",
    "    # z0 for reference distance:\n",
    "    if z0 is None:\n",
    "        z0 = z_of_dL(dL0_Mpc)\n",
    "    znew = z_of_dL(dL_Mpc_array)\n",
    "    factor = (dL0_Mpc**2 / (dL_Mpc_array**2)) * ((1.0 + znew) / (1.0 + z0))\n",
    "    if not is_all_flavor:\n",
    "        factor *= 3.0  # go from one flavor template to all, matching your original\n",
    "    return factor, znew\n",
    "\n",
    "def run_model(\n",
    "    dL_array,\n",
    "    flux_file,\n",
    "    dL0_Mpc,\n",
    "    already_all_flavor=False,\n",
    "    delimiter=None,\n",
    "    title='',\n",
    "    output_folder='out',\n",
    "    do_plot=False,\n",
    "    save_npz=False,\n",
    "    progress=True,          # NEW: show a local tqdm bar\n",
    "    pbar=None,              # NEW: alternatively, update an external/global bar\n",
    "    tqdm_desc=None          # NEW: custom label for the bar\n",
    "):\n",
    "    os.makedirs(output_folder, exist_ok=True)\n",
    "\n",
    "    flu_interp = make_fluence_interp(flux_file, delimiter=delimiter)\n",
    "    z0 = z_of_dL(dL0_Mpc)\n",
    "\n",
    "    dL_array = np.atleast_1d(dL_array).astype(np.float64)\n",
    "\n",
    "    # Choose iterator: local tqdm, external pbar, or plain loop\n",
    "    if pbar is not None:\n",
    "        iterator = dL_array  # we’ll update pbar manually\n",
    "    elif progress:\n",
    "        iterator = tqdm(dL_array,\n",
    "                        desc=tqdm_desc or title or os.path.basename(output_folder),\n",
    "                        unit='Mpc',\n",
    "                        dynamic_ncols=True,\n",
    "                        leave=False)\n",
    "    else:\n",
    "        iterator = dL_array\n",
    "\n",
    "    for dL in iterator:\n",
    "        # Get both the scale factor and z_new for this distance\n",
    "        sc_arr, znew_arr = scale_vector(dL0_Mpc, np.array([dL]), already_all_flavor, z0=z0)\n",
    "        sc   = sc_arr[0]\n",
    "        znew = znew_arr[0]\n",
    "\n",
    "        # --- REDSHIFTED ENERGY SAMPLING ---\n",
    "        # Evaluate the input (Earth-frame-from-template) fluence at E_src = [(1+znew)/(1+z0)] * E_obs\n",
    "        shift_ratio = (1.0 + znew) / (1.0 + z0)\n",
    "        base_flu = flu_interp(energies * shift_ratio)  # same shape as 'energies'\n",
    "\n",
    "        # Continue with your amplitude scaling and unit conversions\n",
    "        fluE = sc * erg2gev * base_flu * 1e9\n",
    "        # tau-only\n",
    "        fluE_tau = fluE / 3.0\n",
    "        fluE_tau = np.clip(fluE_tau, 0, None)\n",
    "        \n",
    "        events_flat = expected_events_map(fluE_tau, Aeff_all, energies, gamma=2.0)\n",
    "\n",
    "        if do_plot:\n",
    "            fig, ax = plt.subplots(figsize=(8, 4.5), subplot_kw=dict(projection='mollweide'))\n",
    "            sca = ax.scatter(lon, decs, c=events_flat, s=4, cmap='inferno')\n",
    "            cb = fig.colorbar(sca, ax=ax, orientation='horizontal', pad=0.05)\n",
    "            cb.set_label(r'$N_\\nu$')\n",
    "            ax.grid(True)\n",
    "            ax.set_title(title + fr'  (d$_L$ ≈ {dL:.1f} Mpc)')\n",
    "            fig.savefig(os.path.join(output_folder, f'skymap_{dL:.3f}.png'), dpi=150)\n",
    "            plt.close(fig)\n",
    "\n",
    "        if save_npz:\n",
    "            np.savez(os.path.join(output_folder, f'events_{dL:.3f}.npz'),\n",
    "                     lon=lon, decs=decs, events=events_flat)\n",
    "\n",
    "        if pbar is not None:\n",
    "            pbar.update(1)\n",
    "\n",
    "    return events_flat"
   ]
  },
  {
   "cell_type": "code",
   "execution_count": 6,
   "id": "0f2b0eaf-0cc0-425a-8a1b-fab50940016d",
   "metadata": {},
   "outputs": [
    {
     "name": "stderr",
     "output_type": "stream",
     "text": [
      "                                                                                                                        "
     ]
    }
   ],
   "source": [
    "dL_s   = np.logspace(0, 3, 15)\n",
    "events_s = run_model(\n",
    "    dL_array=dL_s,\n",
    "    flux_file='files/extended_emission_murase.csv',\n",
    "    dL0_Mpc=300.0,\n",
    "    already_all_flavor=False,       # multiplied by 3 here\n",
    "    delimiter=',',\n",
    "    title='sGRB Neutrino Event Expectations',\n",
    "    output_folder='skymaps_expected_events_sGRBs',\n",
    "    do_plot=True,                  \n",
    "    save_npz=True, \n",
    "    progress=True\n",
    ")"
   ]
  },
  {
   "cell_type": "code",
   "execution_count": 7,
   "id": "19e41f66-b383-49fd-986d-421b3498e256",
   "metadata": {},
   "outputs": [
    {
     "name": "stderr",
     "output_type": "stream",
     "text": [
      "                                                                                                                        "
     ]
    }
   ],
   "source": [
    "dL_p = np.logspace(2, 6, 15)\n",
    "events_p = run_model(dL_p, 'files/Photosphere_GRB.txt', 718.38,\n",
    "          already_all_flavor=True, delimiter = '\t',\n",
    "          title='HLGRB (Photosphere)', output_folder='skymaps_expected_events_Photosphere_change_dL', do_plot = True, save_npz = True, \n",
    "          progress=True)"
   ]
  },
  {
   "cell_type": "code",
   "execution_count": 8,
   "id": "c34acbbc-c3b6-4339-b3fa-1bbe85e0b4d5",
   "metadata": {},
   "outputs": [
    {
     "name": "stderr",
     "output_type": "stream",
     "text": [
      "                                                                                                                        "
     ]
    }
   ],
   "source": [
    "dL_i = np.logspace(2, 6, 15)\n",
    "events_i = run_model(dL_i, 'files/Int_Shock_GRB.csv', 718.38,\n",
    "          already_all_flavor=True, delimiter=',',\n",
    "          title='HLGRB (Internal Shock)', output_folder='skymaps_expected_events_IShock_change_dL', do_plot = True, save_npz = True,\n",
    "          progress=True)"
   ]
  },
  {
   "cell_type": "markdown",
   "id": "c538f377-2f13-4ecb-9c0a-843f9b376071",
   "metadata": {},
   "source": [
    "# References\n",
    "\n",
    "1. Shigeo S. Kimura (2023). *Chapter 9: Neutrinos from Gamma-Ray Bursts*. In: Giovanni G. Fazi (ed.). Pages 433–482. doi:[10.1142/9789811282645_0009](https://doi.org/10.1142/9789811282645_0009). arXiv:[2202.06480](https://arxiv.org/abs/2202.06480).\n",
    "2. Shigeo S. Kimura, Kohta Murase, Peter Mészáros, Kenta Kiuchi (2017). *High-Energy Neutrino Emission from Short Gamma-Ray Bursts: Prospects for Coincident Detection with Gravitational Waves*. **Astrophys. J. Lett. 848 (1) L4**. doi:[10.3847/2041-8213/aa8d14](https://doi.org/10.3847/2041-8213/aa8d14). arXiv:[1708.07075](https://arxiv.org/abs/1708.07075).\n",
    "3. Wenkang Lian, Shunke Ai, He Gao (2024). *Prospect of Gamma-Ray Burst Neutrino Detection with Enhanced Neutrino Detectors*.  **Astrophys. J. Lett. 987 79**. doi[10.3847/1538-4357/add1db](https://iopscience.iop.org/article/10.3847/1538-4357/add1db). arXiv:[2412.16868](https://arxiv.org/abs/2412.16868). "
   ]
  }
 ],
 "metadata": {
  "kernelspec": {
   "display_name": "Python 3 (ipykernel)",
   "language": "python",
   "name": "python3"
  },
  "language_info": {
   "codemirror_mode": {
    "name": "ipython",
    "version": 3
   },
   "file_extension": ".py",
   "mimetype": "text/x-python",
   "name": "python",
   "nbconvert_exporter": "python",
   "pygments_lexer": "ipython3",
   "version": "3.11.13"
  }
 },
 "nbformat": 4,
 "nbformat_minor": 5
}
